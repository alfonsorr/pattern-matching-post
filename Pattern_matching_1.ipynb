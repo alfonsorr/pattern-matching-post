{
 "cells": [
  {
   "cell_type": "markdown",
   "metadata": {},
   "source": [
    "Esto es para la versión de jupyter, permitimos que nos muestre los warnings de compilación que tenga un bloque de código. Tambíen indicamos que nos muestre los warnings por código inalcanzable. Pero shhh, son spoilers del post."
   ]
  },
  {
   "cell_type": "code",
   "execution_count": 1,
   "metadata": {},
   "outputs": [
    {
     "name": "stdout",
     "output_type": "stream",
     "text": [
      "start\n"
     ]
    }
   ],
   "source": [
    "println(\"start\")"
   ]
  },
  {
   "cell_type": "code",
   "execution_count": 2,
   "metadata": {},
   "outputs": [],
   "source": [
    "interp.configureCompiler(_.settings.nowarn.value = false)"
   ]
  },
  {
   "cell_type": "code",
   "execution_count": 3,
   "metadata": {},
   "outputs": [],
   "source": [
    "interp.configureCompiler(_.settings.warnDeadCode.value = true)"
   ]
  },
  {
   "cell_type": "markdown",
   "metadata": {},
   "source": [
    "## ¿Que es el pattern matching?\n",
    "\n",
    "Una estructura de control, pensada para comprobar si un elemento cumple ciertas condiciones. Si no la conocías antes es similar en sintaxis a un `switch`, pero nos permite mayor precisión.\n",
    "Para aplicarlo solo necesitamos poner a continuación del elemento sobre el que queremos aplicarlo, la palabra reservada `match` e indicar cada uno de los casos que nos interesan.\n",
    "\n",
    "Comencemos con uno ejemplo sencillo:"
   ]
  },
  {
   "cell_type": "code",
   "execution_count": 4,
   "metadata": {},
   "outputs": [
    {
     "data": {
      "text/plain": [
       "\u001b[36mstringExample\u001b[39m: \u001b[32mString\u001b[39m = \u001b[32m\"hola\"\u001b[39m\n",
       "\u001b[36mres3_1\u001b[39m: \u001b[32mString\u001b[39m = \u001b[32m\"saludos\"\u001b[39m"
      ]
     },
     "execution_count": 4,
     "metadata": {},
     "output_type": "execute_result"
    }
   ],
   "source": [
    "val stringExample = \"hola\"\n",
    "stringExample match {\n",
    "    case \"hola\" => \"saludos\"\n",
    "    case \"adios\" => \"hasta pronto\"\n",
    "    case _ => \"???\"\n",
    "}"
   ]
  },
  {
   "cell_type": "markdown",
   "metadata": {},
   "source": [
    "Vamos a describir que está ocurriendo aquí: tenemos nuestro valor asignado y empezamos el matcheado. En este caso, queremos comprobar si el valor a procesar es igual al string \"hola\". En caso de ser correcto, se ejecutará el codigo de su parte derecha, si no, pasará al siguiente caso y repetirá lo misma comprobación hasta que uno coincida. Podéis ver que el último caso, se representa solo con `_`, esta es la forma en scala de indicar \"cualquier otro caso\", por lo que si ninguno de los anteriores ha sido satisfactorio, sabemos que siempre ejecutará la parte derecha de este código.\n",
    "\n",
    "Esta es la principal diferencia respecto a `switch`. En el patter matching únicamente ejecutará el primer trozo de código que satisfaga la condición, por lo que el orden que indiquemos importa."
   ]
  },
  {
   "cell_type": "code",
   "execution_count": 5,
   "metadata": {},
   "outputs": [
    {
     "name": "stderr",
     "output_type": "stream",
     "text": [
      "cmd4.sc:3: patterns after a variable pattern cannot match (SLS 8.1.1)\n",
      "    case _ => \"???\"\n",
      "         ^cmd4.sc:4: unreachable code due to variable pattern on line 3\n",
      "    case \"hola\" => \"saludos\"\n",
      "                   ^cmd4.sc:5: unreachable code due to variable pattern on line 3\n",
      "    case \"adios\" => \"hasta pronto\"\n",
      "                    ^cmd4.sc:4: unreachable code\n",
      "    case \"hola\" => \"saludos\"\n",
      "                   ^"
     ]
    },
    {
     "data": {
      "text/plain": [
       "\u001b[36mstringExample\u001b[39m: \u001b[32mString\u001b[39m = \u001b[32m\"hola\"\u001b[39m\n",
       "\u001b[36mres4_1\u001b[39m: \u001b[32mString\u001b[39m = \u001b[32m\"???\"\u001b[39m"
      ]
     },
     "execution_count": 5,
     "metadata": {},
     "output_type": "execute_result"
    }
   ],
   "source": [
    "val stringExample = \"hola\"\n",
    "stringExample match {\n",
    "    case _ => \"???\"\n",
    "    case \"hola\" => \"saludos\"\n",
    "    case \"adios\" => \"hasta pronto\"\n",
    "}"
   ]
  },
  {
   "cell_type": "markdown",
   "metadata": {},
   "source": [
    "En este ejemplo, pusimos en primer caso el comodín `_`, por lo que cualquier valor al ser comparado ejecutará el código de la derecha. El resto de casos son inaccesibles, lo que hará que nos muestre un error de compilación `patterns after a variable pattern cannot match` que nos indica que tenemos código inalcanzable. Todos los casos que hay tras el `case _` se podrían borrar. Esto nos da una pista que nuestro pattern matching podría estar mal o que podemos prescindir de casos inalcanzables."
   ]
  },
  {
   "cell_type": "markdown",
   "metadata": {},
   "source": [
    "## Pero esto es solo la punta del iceberg.\n",
    "\n",
    "En pattern matching no solo podemos hacer condiciones de igualdad, como hemos visto, si no que podemos hacer una variada cantidad de acciones.\n",
    "### Comparar con múltiples casos.\n",
    "\n",
    "En caso de tener múltiples valores que pueden satisfacer un mismo caso, podemos representarlo separandolos con `|`."
   ]
  },
  {
   "cell_type": "code",
   "execution_count": 6,
   "metadata": {},
   "outputs": [
    {
     "data": {
      "text/plain": [
       "\u001b[36mstringExample1\u001b[39m: \u001b[32mString\u001b[39m = \u001b[32m\"hola\"\u001b[39m\n",
       "\u001b[36mres5_1\u001b[39m: \u001b[32mString\u001b[39m = \u001b[32m\"saludos\"\u001b[39m\n",
       "\u001b[36mstringExample2\u001b[39m: \u001b[32mString\u001b[39m = \u001b[32m\"holi\"\u001b[39m\n",
       "\u001b[36mres5_3\u001b[39m: \u001b[32mString\u001b[39m = \u001b[32m\"saludos\"\u001b[39m"
      ]
     },
     "execution_count": 6,
     "metadata": {},
     "output_type": "execute_result"
    }
   ],
   "source": [
    "val stringExample1 = \"hola\"\n",
    "stringExample1 match {\n",
    "    case \"hola\" | \"holi\" => \"saludos\"\n",
    "    case \"adios\" => \"hasta pronto\"\n",
    "    case _ => \"???\"\n",
    "}\n",
    "\n",
    "val stringExample2 = \"holi\"\n",
    "stringExample2 match {\n",
    "    case \"hola\" | \"holi\" => \"saludos\"\n",
    "    case \"adios\" => \"hasta pronto\"\n",
    "    case _ => \"???\"\n",
    "}"
   ]
  },
  {
   "cell_type": "markdown",
   "metadata": {},
   "source": [
    "## Asignación a un valor\n",
    "\n",
    "En caso de cumplir la condición, muchas veces necesitamos recoger el valor extraido para poder procesarlo."
   ]
  },
  {
   "cell_type": "code",
   "execution_count": 7,
   "metadata": {},
   "outputs": [
    {
     "data": {
      "text/plain": [
       "\u001b[36mstringExample\u001b[39m: \u001b[32mString\u001b[39m = \u001b[32m\"ya estoy\"\u001b[39m\n",
       "\u001b[36mres6_1\u001b[39m: \u001b[32mString\u001b[39m = \u001b[32m\"el valor ya estoy no est\\u00e1 contemplado\"\u001b[39m"
      ]
     },
     "execution_count": 7,
     "metadata": {},
     "output_type": "execute_result"
    }
   ],
   "source": [
    "val stringExample = \"ya estoy\"\n",
    "stringExample match {\n",
    "    case \"hola\" => \"saludos\"\n",
    "    case \"adios\" => \"hasta pronto\"\n",
    "    case x => s\"el valor $x no está contemplado\"\n",
    "}"
   ]
  },
  {
   "cell_type": "markdown",
   "metadata": {},
   "source": [
    "Podemos ver, que hemos cambiado nuestro comodin `_` por `x`, lo que permite que se pueda usar en la parte derecha y podemos garantizar que si llegamos a este caso, nunca contendrá los valores `\"hola\"` y `\"adios`\". Realmente el comodín no indica \"en cualquier otro caso\", es una asignación igual que con `x`. La diferencia es que `_` no puede ser llamada desde la parte derecha.\n",
    "\n",
    "Aquí quiero hacer otro inciso, y es la forma que puedes nombrar al valor donde vamos a asignar el elemento sobre el que hacemos el matching, ya que scala tiene unas reglas.\n",
    "\n",
    "Pongamos el siguiente ejemplo, en el que asignamos el valor a un nombre ya existente."
   ]
  },
  {
   "cell_type": "code",
   "execution_count": 8,
   "metadata": {},
   "outputs": [
    {
     "data": {
      "text/plain": [
       "\u001b[36mx\u001b[39m: \u001b[32mString\u001b[39m = \u001b[32m\"soy x\"\u001b[39m\n",
       "\u001b[36mstringExample\u001b[39m: \u001b[32mString\u001b[39m = \u001b[32m\"ya estoy\"\u001b[39m\n",
       "\u001b[36mres7_2\u001b[39m: \u001b[32mString\u001b[39m = \u001b[32m\"el valor ya estoy no est\\u00e1 contemplado\"\u001b[39m"
      ]
     },
     "execution_count": 8,
     "metadata": {},
     "output_type": "execute_result"
    }
   ],
   "source": [
    "val x = \"soy x\"\n",
    "\n",
    "val stringExample = \"ya estoy\"\n",
    "stringExample match {\n",
    "    case \"hola\" => \"saludos\"\n",
    "    case \"adios\" => \"hasta pronto\"\n",
    "    case x => s\"el valor $x no está contemplado\"\n",
    "}"
   ]
  },
  {
   "cell_type": "markdown",
   "metadata": {},
   "source": [
    "En este caso, el valor `x` de dentro del `match` impedirá en el contexto de la derecha que se pueda acceder al valor `x` externo. Esto se llama ocultamiento de valor o \"variable shadowing\", y puede llevar a confusión en algunos casos. Desgraciadamente, el compilador de scala, NO nos dará una advertencia en caso de que ocurra esto.\n",
    "\n",
    "¿Y si yo quisiera comparar un caso con el contenido de un valor que tengo definido fuera del `match`? En el pattern matching se puede, pero siguiendo unas reglas, ya que, como hemos visto, un valor con el que nos gustaría comparar puede convertirse en una nueva asignación. Entonces ¿cómo podría crear un caso si es igual a mi valor externo `x`? Indicando que este nombre de valor no es para asignarlo, si no compararlo, rodeando el valor con comillas `` `x` ``:"
   ]
  },
  {
   "cell_type": "code",
   "execution_count": 9,
   "metadata": {},
   "outputs": [
    {
     "data": {
      "text/plain": [
       "\u001b[36mx\u001b[39m: \u001b[32mString\u001b[39m = \u001b[32m\"soy x\"\u001b[39m\n",
       "\u001b[36mstringExample\u001b[39m: \u001b[32mString\u001b[39m = \u001b[32m\"soy x\"\u001b[39m\n",
       "\u001b[36mres8_2\u001b[39m: \u001b[32mString\u001b[39m = \u001b[32m\"es el valor que ten\\u00eda en x\"\u001b[39m"
      ]
     },
     "execution_count": 9,
     "metadata": {},
     "output_type": "execute_result"
    }
   ],
   "source": [
    "val x = \"soy x\"\n",
    "\n",
    "val stringExample = \"soy x\"\n",
    "stringExample match {\n",
    "    case \"hola\" => \"saludos\"\n",
    "    case \"adios\" => \"hasta pronto\"\n",
    "    case `x` => s\"es el valor que tenía en x\"\n",
    "    case _ => \"ninguno de los anteriores\"\n",
    "}"
   ]
  },
  {
   "cell_type": "markdown",
   "metadata": {},
   "source": [
    "Y si no te fias que esto sea así, pongamos un ejemplo que no coincida."
   ]
  },
  {
   "cell_type": "code",
   "execution_count": 10,
   "metadata": {},
   "outputs": [
    {
     "data": {
      "text/plain": [
       "\u001b[36mx\u001b[39m: \u001b[32mString\u001b[39m = \u001b[32m\"soy x\"\u001b[39m\n",
       "\u001b[36mstringExample2\u001b[39m: \u001b[32mString\u001b[39m = \u001b[32m\"no soy x\"\u001b[39m\n",
       "\u001b[36mres9_2\u001b[39m: \u001b[32mString\u001b[39m = \u001b[32m\"ninguno de los anteriores\"\u001b[39m"
      ]
     },
     "execution_count": 10,
     "metadata": {},
     "output_type": "execute_result"
    }
   ],
   "source": [
    "val x = \"soy x\"\n",
    "\n",
    "val stringExample2 = \"no soy x\"\n",
    "stringExample2 match {\n",
    "    case \"hola\" => \"saludos\"\n",
    "    case \"adios\" => \"hasta pronto\"\n",
    "    case `x` => s\"es el valor que tenía en x\"\n",
    "    case _ => \"ninguno de los anteriores\"\n",
    "}"
   ]
  },
  {
   "cell_type": "markdown",
   "metadata": {},
   "source": [
    "Otra forma más sencilla es seguir [la guia de estilo de scala](https://docs.scala-lang.org/style/naming-conventions.html#constants-values-variable-and-methods), en la que indica que los valores constantes definidos a nivel de clase, han de empezar con mayúscula, lo que reconoce que no es un valor a asignar"
   ]
  },
  {
   "cell_type": "code",
   "execution_count": 11,
   "metadata": {},
   "outputs": [
    {
     "data": {
      "text/plain": [
       "\u001b[36mX\u001b[39m: \u001b[32mString\u001b[39m = \u001b[32m\"soy x\"\u001b[39m\n",
       "\u001b[36mstringExample\u001b[39m: \u001b[32mString\u001b[39m = \u001b[32m\"soy x\"\u001b[39m\n",
       "\u001b[36mres10_2\u001b[39m: \u001b[32mString\u001b[39m = \u001b[32m\"es el valor que ten\\u00eda en x\"\u001b[39m"
      ]
     },
     "execution_count": 11,
     "metadata": {},
     "output_type": "execute_result"
    }
   ],
   "source": [
    "val X = \"soy x\"\n",
    "\n",
    "val stringExample = \"soy x\"\n",
    "stringExample match {\n",
    "    case \"hola\" => \"saludos\"\n",
    "    case \"adios\" => \"hasta pronto\"\n",
    "    case X => s\"es el valor que tenía en x\"\n",
    "    case _ => \"ninguno de los anteriores\"\n",
    "}"
   ]
  },
  {
   "cell_type": "code",
   "execution_count": 12,
   "metadata": {},
   "outputs": [
    {
     "data": {
      "text/plain": [
       "\u001b[36mX\u001b[39m: \u001b[32mString\u001b[39m = \u001b[32m\"soy x\"\u001b[39m\n",
       "\u001b[36mstringExample2\u001b[39m: \u001b[32mString\u001b[39m = \u001b[32m\"no soy x\"\u001b[39m\n",
       "\u001b[36mres11_2\u001b[39m: \u001b[32mString\u001b[39m = \u001b[32m\"ninguno de los anteriores\"\u001b[39m"
      ]
     },
     "execution_count": 12,
     "metadata": {},
     "output_type": "execute_result"
    }
   ],
   "source": [
    "val X = \"soy x\"\n",
    "\n",
    "val stringExample2 = \"no soy x\"\n",
    "stringExample2 match {\n",
    "    case \"hola\" => \"saludos\"\n",
    "    case \"adios\" => \"hasta pronto\"\n",
    "    case X => s\"es el valor que tenía en x\"\n",
    "    case _ => \"ninguno de los anteriores\"\n",
    "}"
   ]
  },
  {
   "cell_type": "markdown",
   "metadata": {},
   "source": [
    "### Refinar la condición.\n",
    "\n",
    "Ahora que sabemos asignar el valor dentro de un caso, podemos llegar a otra de las ventajas del pattern matching y es el poder refinar la condición sin tener que ser siempre por igualdad, como hicimos hasta el momento. Pongamos el ejemplo donde quisieramos tratar los strings que comiencen por `h` de manera distinta, excepto el caso que tenemos ya, comparando con la palabra `\"hola\"`. Con los conocimientos que tenemos actualmente, nuestro código quedaría algo tal que así:"
   ]
  },
  {
   "cell_type": "code",
   "execution_count": 13,
   "metadata": {},
   "outputs": [
    {
     "data": {
      "text/plain": [
       "\u001b[36mstringExample2\u001b[39m: \u001b[32mString\u001b[39m = \u001b[32m\"habana\"\u001b[39m\n",
       "\u001b[36mres12_1\u001b[39m: \u001b[32mString\u001b[39m = \u001b[32m\"comienza por h\"\u001b[39m"
      ]
     },
     "execution_count": 13,
     "metadata": {},
     "output_type": "execute_result"
    }
   ],
   "source": [
    "val stringExample2 = \"habana\"\n",
    "stringExample2 match {\n",
    "    case \"hola\" => \"saludos\"\n",
    "    case \"adios\" => \"hasta pronto\"\n",
    "    case x => if (x.head == 'h') \"comienza por h\" else \"ninguno de los anteriores\"\n",
    "}"
   ]
  },
  {
   "cell_type": "markdown",
   "metadata": {},
   "source": [
    "Pero la utilidad del pattern matching es la de aplanar todos los posibles casos y no empezar a anidar posibles casos más complejos, por lo que podemos hacer uso de la asignación del valor y hacer filtrado de casos de la siguiente manera:"
   ]
  },
  {
   "cell_type": "code",
   "execution_count": 14,
   "metadata": {},
   "outputs": [
    {
     "data": {
      "text/plain": [
       "\u001b[36mstringExample2\u001b[39m: \u001b[32mString\u001b[39m = \u001b[32m\"habana\"\u001b[39m\n",
       "\u001b[36mres13_1\u001b[39m: \u001b[32mString\u001b[39m = \u001b[32m\"comienza por h\"\u001b[39m"
      ]
     },
     "execution_count": 14,
     "metadata": {},
     "output_type": "execute_result"
    }
   ],
   "source": [
    "val stringExample2 = \"habana\"\n",
    "stringExample2 match {\n",
    "    case \"hola\" => \"saludos\"\n",
    "    case \"adios\" => \"hasta pronto\"\n",
    "    case x if x.head == 'h' => \"comienza por h\"\n",
    "    case _ => \"ninguno de los anteriores\"\n",
    "}"
   ]
  },
  {
   "cell_type": "markdown",
   "metadata": {},
   "source": [
    "De esta manera, vemos más claramente los 4 posibles casos estructurados con su condición primero, y no tener que rebuscar lógica escondida a lo largo de todo el código. Lo único a tener en cuenta, es que este `if` no necesita paréntesis en la condición a diferencia de la estructura de control en scala.\n",
    "\n",
    "### Comprobación del tipo del elemento matcheado.\n",
    "\n",
    "Hasta ahora, ¿todo bien?. Comencemos a trabajar con más tipos, a parte de nuestro querido `String`. ¿Cómo podríamos sacar un caso si es string, otro si es Integer, y un último para el resto? En principio sería algo tal que así:\n"
   ]
  },
  {
   "cell_type": "code",
   "execution_count": 15,
   "metadata": {},
   "outputs": [
    {
     "data": {
      "text/plain": [
       "defined \u001b[32mfunction\u001b[39m \u001b[36mmatchfun\u001b[39m"
      ]
     },
     "execution_count": 15,
     "metadata": {},
     "output_type": "execute_result"
    }
   ],
   "source": [
    "def matchfun(x: Any): String =\n",
    " x match {\n",
    "     case x if x.isInstanceOf[String] =>\n",
    "       val xString = x.asInstanceOf[String]\n",
    "       s\"tengo el string $xString\"\n",
    "     case x if x.isInstanceOf[Int] =>\n",
    "       val xInt = x.asInstanceOf[Int]\n",
    "       s\"tengo el integer $xInt\"\n",
    "     case _ => \"es otro tipo\"\n",
    " }"
   ]
  },
  {
   "cell_type": "code",
   "execution_count": 16,
   "metadata": {},
   "outputs": [
    {
     "data": {
      "text/plain": [
       "\u001b[36mres15_0\u001b[39m: \u001b[32mString\u001b[39m = \u001b[32m\"tengo el string hola\"\u001b[39m\n",
       "\u001b[36mres15_1\u001b[39m: \u001b[32mString\u001b[39m = \u001b[32m\"tengo el integer 42\"\u001b[39m\n",
       "\u001b[36mres15_2\u001b[39m: \u001b[32mString\u001b[39m = \u001b[32m\"es otro tipo\"\u001b[39m"
      ]
     },
     "execution_count": 16,
     "metadata": {},
     "output_type": "execute_result"
    }
   ],
   "source": [
    "matchfun(\"hola\")\n",
    "matchfun(42)\n",
    "matchfun(12.4)"
   ]
  },
  {
   "cell_type": "markdown",
   "metadata": {},
   "source": [
    "Esta forma genera mucho código repetitivo, por lo que la syntaxis del pattern matching nos da una forma más concisa de describirlo, no solo para saber si es de un tipo, también hará automáticamente el cambio de tipo para que trabajemos en nuestro contexto de la derecha."
   ]
  },
  {
   "cell_type": "code",
   "execution_count": 17,
   "metadata": {},
   "outputs": [
    {
     "data": {
      "text/plain": [
       "defined \u001b[32mfunction\u001b[39m \u001b[36mmatchfun2\u001b[39m"
      ]
     },
     "execution_count": 17,
     "metadata": {},
     "output_type": "execute_result"
    }
   ],
   "source": [
    "def matchfun2(x: Any): String =\n",
    " x match {\n",
    "     case x: String => s\"tengo el string $x\"\n",
    "     case x: Int => s\"tengo el integer $x\"\n",
    "     case _ => \"es otro tipo\"\n",
    " }"
   ]
  },
  {
   "cell_type": "code",
   "execution_count": 18,
   "metadata": {},
   "outputs": [
    {
     "data": {
      "text/plain": [
       "\u001b[36mres17_0\u001b[39m: \u001b[32mString\u001b[39m = \u001b[32m\"tengo el string hola\"\u001b[39m\n",
       "\u001b[36mres17_1\u001b[39m: \u001b[32mString\u001b[39m = \u001b[32m\"tengo el integer 42\"\u001b[39m\n",
       "\u001b[36mres17_2\u001b[39m: \u001b[32mString\u001b[39m = \u001b[32m\"es otro tipo\"\u001b[39m"
      ]
     },
     "execution_count": 18,
     "metadata": {},
     "output_type": "execute_result"
    }
   ],
   "source": [
    "matchfun2(\"hola\")\n",
    "matchfun2(42)\n",
    "matchfun2(12.4)"
   ]
  },
  {
   "cell_type": "markdown",
   "metadata": {},
   "source": [
    "Esta forma es mucho más concisa y nos evita mancharnos las manos con funciones como `asInstanceOf`."
   ]
  },
  {
   "cell_type": "markdown",
   "metadata": {},
   "source": [
    "#### Cuidado con las comprobaciones de algunas clases\n",
    "\n",
    "Una cosa que tenemos que tener en cuenta, es que estas comprobaciones se hacen en tiempo de ejecución, y la JVM tiene una limitación, y es los tipos paramétricos no existen durante la ejecución. En otras palabras que si quisieramos comparar y saber si es de tipo `List[String]` o `List[Int]` no podríamos fácilmente, ya que la información de que tipo de elemento contiene, durante la ejecución se pierde:"
   ]
  },
  {
   "cell_type": "code",
   "execution_count": 19,
   "metadata": {},
   "outputs": [
    {
     "name": "stderr",
     "output_type": "stream",
     "text": [
      "cmd18.sc:3: non-variable type argument String in type pattern List[String] (the underlying of List[String]) is unchecked since it is eliminated by erasure\n",
      "     case x: List[String] => s\"tengo una lista de string de longitud ${x.size}\"\n",
      "             ^cmd18.sc:4: non-variable type argument Int in type pattern List[Int] (the underlying of List[Int]) is unchecked since it is eliminated by erasure\n",
      "     case x: List[Int] => s\"tengo una lista de integer de longitud ${x.size}\"\n",
      "             ^cmd18.sc:4: unreachable code\n",
      "     case x: List[Int] => s\"tengo una lista de integer de longitud ${x.size}\"\n",
      "                          ^"
     ]
    },
    {
     "data": {
      "text/plain": [
       "defined \u001b[32mfunction\u001b[39m \u001b[36mmatchfun2\u001b[39m"
      ]
     },
     "execution_count": 19,
     "metadata": {},
     "output_type": "execute_result"
    }
   ],
   "source": [
    "def matchfun2(x: List[Any]): String =\n",
    " x match {\n",
    "     case x: List[String] => s\"tengo una lista de string de longitud ${x.size}\"\n",
    "     case x: List[Int] => s\"tengo una lista de integer de longitud ${x.size}\"\n",
    "     case _ => \"es otro tipo de lista\"\n",
    " }"
   ]
  },
  {
   "cell_type": "code",
   "execution_count": 20,
   "metadata": {},
   "outputs": [
    {
     "data": {
      "text/plain": [
       "\u001b[36mres19_0\u001b[39m: \u001b[32mString\u001b[39m = \u001b[32m\"tengo una lista de string de longitud 2\"\u001b[39m\n",
       "\u001b[36mres19_1\u001b[39m: \u001b[32mString\u001b[39m = \u001b[32m\"tengo una lista de string de longitud 1\"\u001b[39m\n",
       "\u001b[36mres19_2\u001b[39m: \u001b[32mString\u001b[39m = \u001b[32m\"tengo una lista de string de longitud 1\"\u001b[39m"
      ]
     },
     "execution_count": 20,
     "metadata": {},
     "output_type": "execute_result"
    }
   ],
   "source": [
    "matchfun2(List(\"hola\", \"adios\"))\n",
    "matchfun2(List(42))\n",
    "matchfun2(List(4.2f))"
   ]
  },
  {
   "cell_type": "markdown",
   "metadata": {},
   "source": [
    "Como puedes comprobar, el patter matching no puede ver más allá de que es una lista, y el tipo contenido nunca lo tiene en cuenta, por lo que siempre entrará en el primer caso. Se podría comprobar que tipo de elemento contiene en la cabeza, pero siempre tedremos el problema en listas vacías, ya que nos resultará imposible poder comprobarlo. Eso si, como todo posible punto de error, el compilador nos informará para que lo tengamos en cuenta con el siguiente warning `List[String] is unchecked since it is eliminated by erasure`, o traducido, \"List[String] no está chequeado porque ha sido borrado\" ya que el compilador lo traducirá a `case x: List => ...` borrando el tipo de la lista. Como os podreis imaginar, esto no ocurre solo con listas, si no con todos los tipos paramétricos."
   ]
  },
  {
   "cell_type": "markdown",
   "metadata": {},
   "source": [
    "### ADT's en pattern matching\n",
    "\n",
    "Ya que hemos visto que scala permite comprobar el tipo del elemento, para poder realizar una acción para cada tipo. Es por esto que quiero pararme a comentar una particularidad la programación funcional, que por supuesto se aplica en scala, y es el uso de los Tipos Algebraicos de Datos, Algebraic Data Types en inglés o ADT para que sea más corto. Esto es una representación de los datos que se basa en el producto y suma de tipos, por ejemplo un producto de String e integer sería la siguiente `case class`"
   ]
  },
  {
   "cell_type": "code",
   "execution_count": 21,
   "metadata": {},
   "outputs": [
    {
     "data": {
      "text/plain": [
       "defined \u001b[32mclass\u001b[39m \u001b[36mUsuario\u001b[39m"
      ]
     },
     "execution_count": 21,
     "metadata": {},
     "output_type": "execute_result"
    }
   ],
   "source": [
    "case class Usuario(nombre: String, edad: Int)"
   ]
  },
  {
   "cell_type": "markdown",
   "metadata": {},
   "source": [
    "Y una  suma de tipos se puede representar de múltiples maneras, pero la más común es el uso de `sealed trait` por ejemplo."
   ]
  },
  {
   "cell_type": "code",
   "execution_count": 22,
   "metadata": {},
   "outputs": [
    {
     "data": {
      "text/plain": [
       "defined \u001b[32mtrait\u001b[39m \u001b[36mTrabajador\u001b[39m\n",
       "defined \u001b[32mclass\u001b[39m \u001b[36mCurrito\u001b[39m\n",
       "defined \u001b[32mclass\u001b[39m \u001b[36mJefe\u001b[39m"
      ]
     },
     "execution_count": 22,
     "metadata": {},
     "output_type": "execute_result"
    }
   ],
   "source": [
    "sealed trait Trabajador\n",
    "case class Currito(nombre: String) extends Trabajador\n",
    "case class Jefe(nombre: String, subordinados: List[Trabajador]) extends Trabajador"
   ]
  },
  {
   "cell_type": "markdown",
   "metadata": {},
   "source": [
    "En este vemos una representación de que sería un trabajador, o es alguien con subordinados a su cargo, o es un currante sin nadie a su cargo. Al ser un `sealed trait` solo permite estas dos posiblidiades de tipo de trabajador, y no se puede extender en ningún otro lado. Esta forma de representación de datos es muy usada en scala, incluso en elementos que nos da el lenguaje, como sería Option, que tiene dos posibles elementos, Some, que indica que contiene un elemento, o None, que no contiene ninguno.\n",
    "\n",
    "Dada la particularidad de esta suma de tipos, el pattern matching suele ser una herramienta muy común y util para poder actuar segun el tipo de dato que podamos encontrarnos."
   ]
  },
  {
   "cell_type": "code",
   "execution_count": 23,
   "metadata": {},
   "outputs": [
    {
     "data": {
      "text/plain": [
       "defined \u001b[32mfunction\u001b[39m \u001b[36mquienEs\u001b[39m\n",
       "defined \u001b[32mfunction\u001b[39m \u001b[36mtengoDato\u001b[39m"
      ]
     },
     "execution_count": 23,
     "metadata": {},
     "output_type": "execute_result"
    }
   ],
   "source": [
    "def quienEs(t: Trabajador): String =\n",
    "t match {\n",
    "    case j: Jefe => s\"${j.nombre} es jefe de ${j.subordinados.size} empleados\"\n",
    "    case c: Currito => s\"${c.nombre} es un gran trabajador\"\n",
    "}\n",
    "\n",
    "def tengoDato(o: Option[Int]): String =\n",
    "o match {\n",
    "    case s: Some[Int] => s\"tenemos el valor ${s.get}\"\n",
    "    case None => \"no tenemos valor\" // en este caso, no comparamos por tipo, si no contra el objeto único que representa un Option vacío\n",
    "}"
   ]
  },
  {
   "cell_type": "code",
   "execution_count": 24,
   "metadata": {},
   "outputs": [
    {
     "data": {
      "text/plain": [
       "\u001b[36mres23_0\u001b[39m: \u001b[32mString\u001b[39m = \u001b[32m\"JM es jefe de 2 empleados\"\u001b[39m\n",
       "\u001b[36mres23_1\u001b[39m: \u001b[32mString\u001b[39m = \u001b[32m\"Ar es un gran trabajador\"\u001b[39m\n",
       "\u001b[36mres23_2\u001b[39m: \u001b[32mString\u001b[39m = \u001b[32m\"tenemos el valor 23\"\u001b[39m\n",
       "\u001b[36mres23_3\u001b[39m: \u001b[32mString\u001b[39m = \u001b[32m\"no tenemos valor\"\u001b[39m"
      ]
     },
     "execution_count": 24,
     "metadata": {},
     "output_type": "execute_result"
    }
   ],
   "source": [
    "quienEs(Jefe(\"JM\", List(Currito(\"Ar\"), Currito(\"J\"))))\n",
    "quienEs(Currito(\"Ar\"))\n",
    "\n",
    "tengoDato(Some(23))\n",
    "tengoDato(None)"
   ]
  },
  {
   "cell_type": "markdown",
   "metadata": {},
   "source": [
    "### Extractores\n",
    "\n",
    "Pero no nos quedemos solo con las limitaciones, porque al fin llega uno de los elementos más potentes del pattern matching, y mi favorito, los extractores. Pongamos que ya somos mayorcitos y no trabajamos solo con tipos simples como String, Int, etc, si no que ya tenemos estructuras más complejas, por ejemplo una tupla, en la que nos gustaría hacer varios casos, segun el contenido de esta, como hemos hecho hasta ahora, con nuestro conocimiento actual, podríamos hacer algo tal que así:"
   ]
  },
  {
   "cell_type": "code",
   "execution_count": 25,
   "metadata": {},
   "outputs": [
    {
     "data": {
      "text/plain": [
       "defined \u001b[32mfunction\u001b[39m \u001b[36mtuplaMatch\u001b[39m"
      ]
     },
     "execution_count": 25,
     "metadata": {},
     "output_type": "execute_result"
    }
   ],
   "source": [
    "def tuplaMatch(x: (String, Int)): String =\n",
    " x match {\n",
    "     case x if x._1 == \"hola\" & x._2  == 10 => \"hola con valor igual que 10\"\n",
    "     case x if x._1 == \"hola\" & x._2 > 10 => \"hola con valor mayor que 10\"\n",
    "     case x if x._1 == \"hola\" => \"hola con valor menor a 10\"\n",
    "     case x => s\"la palabra es ${x._1} con valor ${x._2}\"\n",
    " }"
   ]
  },
  {
   "cell_type": "code",
   "execution_count": 26,
   "metadata": {},
   "outputs": [
    {
     "data": {
      "text/plain": [
       "\u001b[36mres25_0\u001b[39m: \u001b[32mString\u001b[39m = \u001b[32m\"hola con valor igual que 10\"\u001b[39m\n",
       "\u001b[36mres25_1\u001b[39m: \u001b[32mString\u001b[39m = \u001b[32m\"hola con valor mayor que 10\"\u001b[39m\n",
       "\u001b[36mres25_2\u001b[39m: \u001b[32mString\u001b[39m = \u001b[32m\"hola con valor menor a 10\"\u001b[39m\n",
       "\u001b[36mres25_3\u001b[39m: \u001b[32mString\u001b[39m = \u001b[32m\"la palabra es adios con valor 42\"\u001b[39m"
      ]
     },
     "execution_count": 26,
     "metadata": {},
     "output_type": "execute_result"
    }
   ],
   "source": [
    "tuplaMatch((\"hola\", 10))\n",
    "tuplaMatch((\"hola\", 42))\n",
    "tuplaMatch((\"hola\", 2))\n",
    "tuplaMatch((\"adios\", 42))"
   ]
  },
  {
   "cell_type": "markdown",
   "metadata": {},
   "source": [
    "El código es correcto, pero hasta el momento la ventaja del pattern matching principal es una descripción muy gráfica de la lógica en la comprobación, y aquí es donde entra el uso de los extractores. Con estos, podemos comprobar o asignar los elementos internos de una manera mucho más parecido a la representación de la construcción de la clase.\n",
    "\n",
    "Por ejemplo, para crear una tupla, la forma que lo hacemos es poniendo los elementos necesarios entre parentesis, y separados por una coma, en este caso a ser una tupla de dos elementos, se podría representar tal que así:"
   ]
  },
  {
   "cell_type": "code",
   "execution_count": 27,
   "metadata": {},
   "outputs": [
    {
     "data": {
      "text/plain": [
       "\u001b[36mtupla\u001b[39m: (\u001b[32mString\u001b[39m, \u001b[32mInt\u001b[39m) = (\u001b[32m\"texto\"\u001b[39m, \u001b[32m1\u001b[39m)"
      ]
     },
     "execution_count": 27,
     "metadata": {},
     "output_type": "execute_result"
    }
   ],
   "source": [
    "val tupla: (String, Int) = (\"texto\", 1)"
   ]
  },
  {
   "cell_type": "code",
   "execution_count": 28,
   "metadata": {},
   "outputs": [
    {
     "data": {
      "text/plain": [
       "defined \u001b[32mfunction\u001b[39m \u001b[36mtuplaMatch2\u001b[39m"
      ]
     },
     "execution_count": 28,
     "metadata": {},
     "output_type": "execute_result"
    }
   ],
   "source": [
    "def tuplaMatch2(x: (String, Int)): String =\n",
    " x match {\n",
    "     case (\"hola\", 10) => \"hola con valor igual que 10\" // hacemos uso de comparación\n",
    "     case (\"hola\", x2) if x2 > 10 => \"hola con valor mayor que 10\" // hacemos uso de comparación y de asignación de un elemento interno\n",
    "     case (\"hola\", _) => \"hola con valor menor a 10\"\n",
    "     case (x1, x2) => s\"la palabra es ${x1} con valor ${x2}\" // asignamos ambos elementos de la tupla\n",
    " }"
   ]
  },
  {
   "cell_type": "code",
   "execution_count": 29,
   "metadata": {},
   "outputs": [
    {
     "data": {
      "text/plain": [
       "\u001b[36mres28_0\u001b[39m: \u001b[32mString\u001b[39m = \u001b[32m\"hola con valor igual que 10\"\u001b[39m\n",
       "\u001b[36mres28_1\u001b[39m: \u001b[32mString\u001b[39m = \u001b[32m\"hola con valor mayor que 10\"\u001b[39m\n",
       "\u001b[36mres28_2\u001b[39m: \u001b[32mString\u001b[39m = \u001b[32m\"hola con valor menor a 10\"\u001b[39m\n",
       "\u001b[36mres28_3\u001b[39m: \u001b[32mString\u001b[39m = \u001b[32m\"la palabra es adios con valor 42\"\u001b[39m"
      ]
     },
     "execution_count": 29,
     "metadata": {},
     "output_type": "execute_result"
    }
   ],
   "source": [
    "tuplaMatch((\"hola\", 10))\n",
    "tuplaMatch((\"hola\", 42))\n",
    "tuplaMatch((\"hola\", 2))\n",
    "tuplaMatch((\"adios\", 42))"
   ]
  },
  {
   "cell_type": "markdown",
   "metadata": {},
   "source": [
    "Hay que tener en cuenta, que el uso de extractores no es solo para pattern matching, también se pueden  usar en las asignaciones"
   ]
  },
  {
   "cell_type": "code",
   "execution_count": 30,
   "metadata": {},
   "outputs": [
    {
     "data": {
      "text/plain": [
       "\u001b[36mtupla\u001b[39m: (\u001b[32mString\u001b[39m, \u001b[32mInt\u001b[39m) = (\u001b[32m\"texto\"\u001b[39m, \u001b[32m1\u001b[39m)\n",
       "\u001b[36mprimero\u001b[39m: \u001b[32mString\u001b[39m = \u001b[32m\"texto\"\u001b[39m\n",
       "\u001b[36msegundo\u001b[39m: \u001b[32mInt\u001b[39m = \u001b[32m1\u001b[39m"
      ]
     },
     "execution_count": 30,
     "metadata": {},
     "output_type": "execute_result"
    }
   ],
   "source": [
    "val tupla: (String, Int) = (\"texto\", 1)\n",
    "val (primero, segundo) = tupla"
   ]
  },
  {
   "cell_type": "markdown",
   "metadata": {},
   "source": [
    "Los extractores no solo permiten comparar por igualdad, o asignar los elementos internos, también permite comprobar el tipo de los elementos internos."
   ]
  },
  {
   "cell_type": "code",
   "execution_count": 31,
   "metadata": {},
   "outputs": [
    {
     "data": {
      "text/plain": [
       "defined \u001b[32mfunction\u001b[39m \u001b[36mtuplaAnyMatch\u001b[39m"
      ]
     },
     "execution_count": 31,
     "metadata": {},
     "output_type": "execute_result"
    }
   ],
   "source": [
    "def tuplaAnyMatch(x: (Any, Any)): String =\n",
    "  x match {\n",
    "      case (x: String, y: String) => s\"dos strings primero: $x segundo: $y\"\n",
    "      case (x: String, _) => s\"solo el primero es string: $x\"\n",
    "      case (_, x: String) => s\"solo el segundo es string: $x\"\n",
    "      case _ => \"ninguno es string\"\n",
    "  }"
   ]
  },
  {
   "cell_type": "code",
   "execution_count": 32,
   "metadata": {},
   "outputs": [
    {
     "data": {
      "text/plain": [
       "\u001b[36mres31_0\u001b[39m: \u001b[32mString\u001b[39m = \u001b[32m\"dos strings primero: hola segundo: adios\"\u001b[39m\n",
       "\u001b[36mres31_1\u001b[39m: \u001b[32mString\u001b[39m = \u001b[32m\"solo el primero es string: hola\"\u001b[39m\n",
       "\u001b[36mres31_2\u001b[39m: \u001b[32mString\u001b[39m = \u001b[32m\"solo el segundo es string: adios\"\u001b[39m\n",
       "\u001b[36mres31_3\u001b[39m: \u001b[32mString\u001b[39m = \u001b[32m\"ninguno es string\"\u001b[39m"
      ]
     },
     "execution_count": 32,
     "metadata": {},
     "output_type": "execute_result"
    }
   ],
   "source": [
    "tuplaAnyMatch((\"hola\", \"adios\"))\n",
    "tuplaAnyMatch((\"hola\", 42))\n",
    "tuplaAnyMatch((1, \"adios\"))\n",
    "tuplaAnyMatch((1, 42))"
   ]
  },
  {
   "cell_type": "markdown",
   "metadata": {},
   "source": [
    "Como habrás visto, los extractores son una herramienta muy potente, y que permite simplificar nuestro código. Esto es tan comun, que cuando trabajamos con `case classes` (elemento fundamental para crear ADT's) scala nos crea extractores que siguen la misma estructura de los constructores."
   ]
  },
  {
   "cell_type": "code",
   "execution_count": 33,
   "metadata": {},
   "outputs": [
    {
     "data": {
      "text/plain": [
       "defined \u001b[32mtrait\u001b[39m \u001b[36mTrabajador\u001b[39m\n",
       "defined \u001b[32mclass\u001b[39m \u001b[36mCurrito\u001b[39m\n",
       "defined \u001b[32mclass\u001b[39m \u001b[36mJefe\u001b[39m"
      ]
     },
     "execution_count": 33,
     "metadata": {},
     "output_type": "execute_result"
    }
   ],
   "source": [
    "sealed trait Trabajador\n",
    "case class Currito(nombre: String) extends Trabajador\n",
    "case class Jefe(nombre: String, subordinados: List[Trabajador]) extends Trabajador"
   ]
  },
  {
   "cell_type": "code",
   "execution_count": 34,
   "metadata": {},
   "outputs": [
    {
     "data": {
      "text/plain": [
       "defined \u001b[32mfunction\u001b[39m \u001b[36mdibujaJerarquia\u001b[39m"
      ]
     },
     "execution_count": 34,
     "metadata": {},
     "output_type": "execute_result"
    }
   ],
   "source": [
    "def dibujaJerarquia(t:Trabajador, nivel: Int = 0):Unit = {\n",
    "    val blancos = \"  \" * nivel\n",
    "    t match{\n",
    "        case Currito(n) => println(s\"${blancos}- $n 🧑‍🏭\")\n",
    "        case Jefe(n, l) =>\n",
    "          println(s\"${blancos}- $n 😎\")\n",
    "          l.foreach(dibujaJerarquia(_, nivel + 1))\n",
    "    }\n",
    "}"
   ]
  },
  {
   "cell_type": "code",
   "execution_count": 35,
   "metadata": {},
   "outputs": [
    {
     "name": "stdout",
     "output_type": "stream",
     "text": [
      "- A 😎\n",
      "  - B 😎\n",
      "    - C 🧑‍🏭\n",
      "    - D 🧑‍🏭\n",
      "  - E 😎\n",
      "    - F 🧑‍🏭\n",
      "    - G 🧑‍🏭\n",
      "  - H 🧑‍🏭\n"
     ]
    },
    {
     "data": {
      "text/plain": [
       "\u001b[36mempresa\u001b[39m: \u001b[32mJefe\u001b[39m = \u001b[33mJefe\u001b[39m(\n",
       "  \u001b[32m\"A\"\u001b[39m,\n",
       "  \u001b[33mList\u001b[39m(\n",
       "    \u001b[33mJefe\u001b[39m(\u001b[32m\"B\"\u001b[39m, \u001b[33mList\u001b[39m(\u001b[33mCurrito\u001b[39m(\u001b[32m\"C\"\u001b[39m), \u001b[33mCurrito\u001b[39m(\u001b[32m\"D\"\u001b[39m))),\n",
       "    \u001b[33mJefe\u001b[39m(\u001b[32m\"E\"\u001b[39m, \u001b[33mList\u001b[39m(\u001b[33mCurrito\u001b[39m(\u001b[32m\"F\"\u001b[39m), \u001b[33mCurrito\u001b[39m(\u001b[32m\"G\"\u001b[39m))),\n",
       "    \u001b[33mCurrito\u001b[39m(\u001b[32m\"H\"\u001b[39m)\n",
       "  )\n",
       ")"
      ]
     },
     "execution_count": 35,
     "metadata": {},
     "output_type": "execute_result"
    }
   ],
   "source": [
    "val empresa = Jefe(\"A\", List(\n",
    "         Jefe(\"B\", List(Currito(\"C\"), Currito(\"D\"))),\n",
    "         Jefe(\"E\", List(Currito(\"F\"), Currito(\"G\"))),\n",
    "         Currito(\"H\")\n",
    "      )\n",
    "    )\n",
    "\n",
    "dibujaJerarquia(empresa)"
   ]
  },
  {
   "cell_type": "markdown",
   "metadata": {},
   "source": [
    "#### Bricomanía: crea tus propios extractores\n",
    "\n",
    "¿Y como puede ser esto posible? ¿Cuando se que algo se puede descomponer o no? Muy sencillo, tenemos que ver si existe un método en esa clase llamado `unapply`, este es el truco que usa scala para poder descomponer algo. Para los tipos tipicos de scala, como tuplas, listas, o toda case class que creamos, scala ya tiene preparado este método para nosotros en el objeto de compañía, pero si por la razón que sea, no tiene este método, podemos crearlo nosotros."
   ]
  },
  {
   "cell_type": "markdown",
   "metadata": {},
   "source": [
    "##### Extractores básicos\n",
    "\n",
    "Lo primero a tener en cuenta es los elementos que entran en el método, en este caso siempre tiene que ser uno, y del tipo que queremos descomponer, y lo que devolverá, siempre ha de ser un Option, que será del tipo extraido.\n",
    "\n",
    "Veamos un ejeplo primero, en el que queremos comprobar si un string se puede transformar a un integer. El problema es que el método toInteger que scala nos provee, lanza excepciones, por lo que no es seguro usarlo desde un pattern matching, pero nosotros podemos crar una clase que lo permita. "
   ]
  },
  {
   "cell_type": "code",
   "execution_count": 36,
   "metadata": {},
   "outputs": [
    {
     "data": {
      "text/plain": [
       "defined \u001b[32mobject\u001b[39m \u001b[36mValidIntString\u001b[39m"
      ]
     },
     "execution_count": 36,
     "metadata": {},
     "output_type": "execute_result"
    }
   ],
   "source": [
    "object ValidIntString { // creamos el objeto que permitirá extraer el string si es valido\n",
    "    def unapply(string: String): Option[Int] = // esperamos descomponer un string, y poder sacar un integer si es posible\n",
    "    try {\n",
    "        Some(string.toInt) // Si logra ejecutar sin excepciones, devolverá un some con el valor\n",
    "    } catch {\n",
    "        case _ : Throwable => None // en caso que no fuera integer, lanzaría excepción, por lo que devolvemos None\n",
    "    }\n",
    "}"
   ]
  },
  {
   "cell_type": "markdown",
   "metadata": {},
   "source": [
    "Ahora podemos usar nuestro flamante nuevo extractor"
   ]
  },
  {
   "cell_type": "code",
   "execution_count": 37,
   "metadata": {},
   "outputs": [
    {
     "data": {
      "text/plain": [
       "\u001b[36mres36_0\u001b[39m: \u001b[32mString\u001b[39m = \u001b[32m\"es un integer con valor 123\"\u001b[39m\n",
       "\u001b[36mres36_1\u001b[39m: \u001b[32mString\u001b[39m = \u001b[32m\"no es integer\"\u001b[39m"
      ]
     },
     "execution_count": 37,
     "metadata": {},
     "output_type": "execute_result"
    }
   ],
   "source": [
    "\"123\" match {\n",
    "    case ValidIntString(n) => s\"es un integer con valor $n\"\n",
    "    case _ => \"no es integer\"\n",
    "}\n",
    "\n",
    "\"hola\" match {\n",
    "    case ValidIntString(n) => s\"es un integer con valor $n\"\n",
    "    case _ => \"no es integer\"\n",
    "}"
   ]
  },
  {
   "cell_type": "markdown",
   "metadata": {},
   "source": [
    "Funciona perfectamente, pero y si quisiera devolver más de un elemento, como por ejemplo hacen en la tupla que vimos antes? Tenemos que devolver una tupla simplemente. Por ejemplo, queremos devolver el valor si se podía transformar a integer, y el doble de este valor en una tupla."
   ]
  },
  {
   "cell_type": "code",
   "execution_count": 38,
   "metadata": {},
   "outputs": [
    {
     "data": {
      "text/plain": [
       "defined \u001b[32mobject\u001b[39m \u001b[36mValidIntStringWithDouble\u001b[39m"
      ]
     },
     "execution_count": 38,
     "metadata": {},
     "output_type": "execute_result"
    }
   ],
   "source": [
    "object ValidIntStringWithDouble { // creamos el objeto que permitirá extraer el string si es valido\n",
    "    def unapply(string: String): Option[(Int, Int)] = // esperamos descomponer un string, y poder sacar una tupla de integes si es posible\n",
    "    try {\n",
    "        val x = string.toInt\n",
    "        Some(x, x * 2) // Si logra ejecutar sin excepciones, devolverá un Some con el valor\n",
    "    } catch {\n",
    "        case _: Throwable => None // en caso que no fuera integer, lanzaría excepción, por lo que devolvemos None\n",
    "    }\n",
    "}"
   ]
  },
  {
   "cell_type": "code",
   "execution_count": 39,
   "metadata": {},
   "outputs": [
    {
     "data": {
      "text/plain": [
       "\u001b[36mres38_0\u001b[39m: \u001b[32mString\u001b[39m = \u001b[32m\"es un integer con valor 123 y su doble 246\"\u001b[39m\n",
       "\u001b[36mres38_1\u001b[39m: \u001b[32mString\u001b[39m = \u001b[32m\"no es integer\"\u001b[39m"
      ]
     },
     "execution_count": 39,
     "metadata": {},
     "output_type": "execute_result"
    }
   ],
   "source": [
    "\"123\" match {\n",
    "    case ValidIntStringWithDouble(n, n2) => s\"es un integer con valor $n y su doble $n2\"\n",
    "    case _ => \"no es integer\"\n",
    "}\n",
    "\n",
    "\"hola\" match {\n",
    "    case ValidIntStringWithDouble(n, n2) => s\"es un integer con valor $n y su doble $n2\"\n",
    "    case _ => \"no es integer\"\n",
    "}"
   ]
  },
  {
   "cell_type": "markdown",
   "metadata": {},
   "source": [
    "##### Extractores variadricos\n",
    "\n",
    "O si necesitamos un número indeterminado de elementos a devolver, podemos hacer de la variante variadrica unapplySeq, en el que devolveremos una secuencia de elementos. Cuando se hace la extracción en el match, se tiene en cuenta el número de elementos que se le pasan como argumento."
   ]
  },
  {
   "cell_type": "code",
   "execution_count": 40,
   "metadata": {},
   "outputs": [
    {
     "data": {
      "text/plain": [
       "defined \u001b[32mobject\u001b[39m \u001b[36mSplitDecimals\u001b[39m"
      ]
     },
     "execution_count": 40,
     "metadata": {},
     "output_type": "execute_result"
    }
   ],
   "source": [
    "object SplitDecimals { // creamos el objeto que permitirá extraer el string si es valido\n",
    "    def unapplySeq(string: String): Option[List[Int]] = // esperamos descomponer un string, y devolver un número indefinido de parámetros.\n",
    "    try {\n",
    "        val x = string.toFloat\n",
    "        val hasDecimals = x % 1 != 0 // si es par tendrá 2 elementos la lista, si es impar solo uno\n",
    "        if (hasDecimals)\n",
    "          Some(List((x / 1).toInt, (x % 1 * 1000000).toInt)) // Al ser par devolvemos 2 elementos\n",
    "        else\n",
    "          Some(List((x / 1).toInt)) // Al ser impar devolvemos solo uno\n",
    "    } catch {\n",
    "        case _: Throwable => None // en caso que no fuera integer, lanzaría excepción, por lo que devolvemos None\n",
    "    }\n",
    "}"
   ]
  },
  {
   "cell_type": "code",
   "execution_count": 41,
   "metadata": {},
   "outputs": [
    {
     "data": {
      "text/plain": [
       "\u001b[36mres40_0\u001b[39m: \u001b[32mString\u001b[39m = \u001b[32m\"es entero y tenemos 123 solo\"\u001b[39m\n",
       "\u001b[36mres40_1\u001b[39m: \u001b[32mString\u001b[39m = \u001b[32m\"tiene decimales: 123 . 564537\"\u001b[39m\n",
       "\u001b[36mres40_2\u001b[39m: \u001b[32mString\u001b[39m = \u001b[32m\"no es numerico\"\u001b[39m"
      ]
     },
     "execution_count": 41,
     "metadata": {},
     "output_type": "execute_result"
    }
   ],
   "source": [
    "\"123.0000\" match {\n",
    "    case SplitDecimals(n1, n2) => s\"tiene decimales: $n1 . $n2\"\n",
    "    case SplitDecimals(n1) => s\"es entero y tenemos $n1 solo\"\n",
    "    case _ => \"no es numerico\"\n",
    "}\n",
    "\n",
    "\"123.56454\" match {\n",
    "    case SplitDecimals(n1, n2) => s\"tiene decimales: $n1 . $n2\"\n",
    "    case SplitDecimals(n1) => s\"es entero y tenemos $n1 solo\"\n",
    "    case _ => \"no es numerico\"\n",
    "}\n",
    "\n",
    "\"hola\" match {\n",
    "    case SplitDecimals(n1, n2) => s\"tiene decimales: $n1 y $n2\"\n",
    "    case SplitDecimals(n1) => s\"es entero y tenemos $n1 solo\"\n",
    "    case _ => \"no es numerico\"\n",
    "}"
   ]
  },
  {
   "cell_type": "markdown",
   "metadata": {},
   "source": [
    "#### Extractores Booleanos\n",
    "\n",
    "Por último, scala permite otro tipo de extractor, en el que no interesa extraer un elemento, si no si cumple una propiedad. Al igual que hacemos en la parte de refinado, en el que podemos comprobar si cumple una condición, declarandolo explicitamente, tambien podríamos encapsular esa lógica para darle un nombre legible. Para hacer esto, tambien tenemos que crear un extractor con el método unapply, pero en vez de devolver un `Option`, solo tenemos que devolver un Booleano"
   ]
  },
  {
   "cell_type": "code",
   "execution_count": 42,
   "metadata": {},
   "outputs": [
    {
     "data": {
      "text/plain": [
       "defined \u001b[32mobject\u001b[39m \u001b[36mIsEaven\u001b[39m"
      ]
     },
     "execution_count": 42,
     "metadata": {},
     "output_type": "execute_result"
    }
   ],
   "source": [
    "object IsEaven {\n",
    "    def unapply(int: Int): Boolean = int % 2 == 0\n",
    "}"
   ]
  },
  {
   "cell_type": "code",
   "execution_count": 43,
   "metadata": {},
   "outputs": [
    {
     "data": {
      "text/plain": [
       "\u001b[36mres42_0\u001b[39m: \u001b[32mString\u001b[39m = \u001b[32m\"el valor es par\"\u001b[39m\n",
       "\u001b[36mres42_1\u001b[39m: \u001b[32mString\u001b[39m = \u001b[32m\"el valor es impar\"\u001b[39m"
      ]
     },
     "execution_count": 43,
     "metadata": {},
     "output_type": "execute_result"
    }
   ],
   "source": [
    "54 match {\n",
    "    case IsEaven() => \"el valor es par\"\n",
    "    case _ => \"el valor es impar\"\n",
    "}\n",
    "\n",
    "45 match {\n",
    "    case IsEaven() => \"el valor es par\"\n",
    "    case _ => \"el valor es impar\"\n",
    "}"
   ]
  },
  {
   "cell_type": "markdown",
   "metadata": {},
   "source": [
    "Y aunque en ejemplos anteriores siempre usamos `object`para crear nuestro extractor, tambien podemos hacer un extractor que requiera parámetros usando `class`. Por requermientos de la sintaxis, tenemos que instanciarlo antes, para no confundir los parámetros del extractor con las comparaciones que queremos hacer."
   ]
  },
  {
   "cell_type": "code",
   "execution_count": 44,
   "metadata": {},
   "outputs": [
    {
     "data": {
      "text/plain": [
       "defined \u001b[32mclass\u001b[39m \u001b[36mGreaterThan\u001b[39m"
      ]
     },
     "execution_count": 44,
     "metadata": {},
     "output_type": "execute_result"
    }
   ],
   "source": [
    "case class GreaterThan(c: Int) {\n",
    "    def unapply(int: Int): Boolean = int > c\n",
    "}"
   ]
  },
  {
   "cell_type": "code",
   "execution_count": 45,
   "metadata": {},
   "outputs": [
    {
     "data": {
      "text/plain": [
       "\u001b[36mmayor45\u001b[39m: \u001b[32mGreaterThan\u001b[39m = \u001b[33mGreaterThan\u001b[39m(\u001b[32m45\u001b[39m)\n",
       "\u001b[36mres44_1\u001b[39m: \u001b[32mString\u001b[39m = \u001b[32m\"el valor es mayor que 45\"\u001b[39m\n",
       "\u001b[36mres44_2\u001b[39m: \u001b[32mString\u001b[39m = \u001b[32m\"el valor es menor o igual\"\u001b[39m"
      ]
     },
     "execution_count": 45,
     "metadata": {},
     "output_type": "execute_result"
    }
   ],
   "source": [
    "val mayor45 = GreaterThan(45)\n",
    "\n",
    "54 match {\n",
    "    case mayor45() => \"el valor es mayor que 45\"\n",
    "    case _ => \"el valor es menor o igual\"\n",
    "}\n",
    "\n",
    "23 match {\n",
    "    case mayor45() => \"el valor es mayor que 45\"\n",
    "    case _ => \"el valor es menor o igual\"\n",
    "}"
   ]
  },
  {
   "cell_type": "markdown",
   "metadata": {},
   "source": [
    "#### Usos de extractores ya implementados en scala\n",
    "\n",
    "Con estos ejemplos, podemos ver que los extractores no solo sirven para facilitarnos acceder a los elementos, si no que también nos permiten hacer validaciones. Por ejemplo, en scala se usa para permitir el uso de regex en pattern matching, y poder extraer los elementos (o grupos) que capturamos."
   ]
  },
  {
   "cell_type": "code",
   "execution_count": 46,
   "metadata": {},
   "outputs": [
    {
     "data": {
      "text/plain": [
       "\u001b[36mfecha\u001b[39m: \u001b[32mscala\u001b[39m.\u001b[32mutil\u001b[39m.\u001b[32mmatching\u001b[39m.\u001b[32mRegex\u001b[39m = (\\d{4})-(\\d{2})-(\\d{2})\n",
       "\u001b[36mres45_1\u001b[39m: \u001b[32mString\u001b[39m = \u001b[32m\"a\\u00f1o: 2004, mes: 01, dia: 20\"\u001b[39m\n",
       "\u001b[36mres45_2\u001b[39m: \u001b[32mString\u001b[39m = \u001b[32m\"no es una fecha\"\u001b[39m"
      ]
     },
     "execution_count": 46,
     "metadata": {},
     "output_type": "execute_result"
    }
   ],
   "source": [
    "val fecha = raw\"(\\d{4})-(\\d{2})-(\\d{2})\".r\n",
    "\n",
    "\"2004-01-20\" match {\n",
    "    case fecha(year, month, day) => s\"año: $year, mes: $month, dia: $day\"\n",
    "    case _ => \"no es una fecha\"\n",
    "}\n",
    "\n",
    "\"hola\" match {\n",
    "    case fecha(year, month, day) => s\"año: $year, mes: $month, dia: $day\"\n",
    "    case _ => \"no es una fecha\"\n",
    "}"
   ]
  },
  {
   "cell_type": "markdown",
   "metadata": {},
   "source": [
    "Otro caso es poder matchera las listas, esperando un número especifico de elementos"
   ]
  },
  {
   "cell_type": "code",
   "execution_count": 47,
   "metadata": {},
   "outputs": [
    {
     "data": {
      "text/plain": [
       "\u001b[36mres46_0\u001b[39m: \u001b[32mString\u001b[39m = \u001b[32m\"tiene tres elementos 1, 2, 3\"\u001b[39m\n",
       "\u001b[36mres46_1\u001b[39m: \u001b[32mString\u001b[39m = \u001b[32m\"tiene solo un elemento 1\"\u001b[39m\n",
       "\u001b[36mres46_2\u001b[39m: \u001b[32mString\u001b[39m = \u001b[32m\"tiene demasiados elementos, exactamente  4\"\u001b[39m"
      ]
     },
     "execution_count": 47,
     "metadata": {},
     "output_type": "execute_result"
    }
   ],
   "source": [
    "List(1, 2, 3) match {\n",
    "    case List(n1) => s\"tiene solo un elemento $n1\"\n",
    "    case List(n1, n2) => s\"tiene dos elementos $n1, $n2\"\n",
    "    case List(n1, n2, n3) => s\"tiene tres elementos $n1, $n2, $n3\"\n",
    "    case l => s\"tiene demasiados elementos, exactamente  ${l.size}\"\n",
    "}\n",
    "\n",
    "List(1) match {\n",
    "    case List(n1) => s\"tiene solo un elemento $n1\"\n",
    "    case List(n1, n2) => s\"tiene dos elementos $n1, $n2\"\n",
    "    case List(n1, n2, n3) => s\"tiene tres elementos $n1, $n2, $n3\"\n",
    "    case l => s\"tiene demasiados elementos, exactamente  ${l.size}\"\n",
    "}\n",
    "\n",
    "List(1, 2, 3, 4) match {\n",
    "    case List(n1) => s\"tiene solo un elemento $n1\"\n",
    "    case List(n1, n2) => s\"tiene dos elementos $n1, $n2\"\n",
    "    case List(n1, n2, n3) => s\"tiene tres elementos $n1, $n2, $n3\"\n",
    "    case l => s\"tiene demasiados elementos, exactamente  ${l.size}\"\n",
    "}"
   ]
  },
  {
   "cell_type": "markdown",
   "metadata": {},
   "source": [
    "### Obtener el elemento original y poder aplicar un patrón.\n",
    "\n",
    "El uso de extractores es muy común, pero podemos llegar al caso que nos interesaría poder tener el valor original en la condición además de una extracción. Para esto, podemos hacer uso del símbolo `@` con el que podemos asignar el valor original a un valor, y a continuación del símbolo, descomponerlo con un patrón."
   ]
  },
  {
   "cell_type": "code",
   "execution_count": 48,
   "metadata": {},
   "outputs": [
    {
     "data": {
      "text/plain": [
       "\u001b[36mfecha\u001b[39m: \u001b[32mscala\u001b[39m.\u001b[32mutil\u001b[39m.\u001b[32mmatching\u001b[39m.\u001b[32mRegex\u001b[39m = (\\d{4})-(\\d{2})-(\\d{2})\n",
       "\u001b[36mres47_1\u001b[39m: \u001b[32mString\u001b[39m = \u001b[32m\"a\\u00f1o: 2004, mes: 01, dia: 20 original 2004-01-20\"\u001b[39m"
      ]
     },
     "execution_count": 48,
     "metadata": {},
     "output_type": "execute_result"
    }
   ],
   "source": [
    "val fecha = raw\"(\\d{4})-(\\d{2})-(\\d{2})\".r\n",
    "\n",
    "\"2004-01-20\" match {\n",
    "  case d @ fecha(year, month, day) => s\"año: $year, mes: $month, dia: $day original $d\"\n",
    "  case _ => \"no es una fecha\"\n",
    "}"
   ]
  },
  {
   "cell_type": "markdown",
   "metadata": {},
   "source": [
    "## Ahora todo a la vez!\n",
    "\n",
    "Haciendo uso de todo lo visto hasta ahora se puede realizar comparativas complejas en muy poco código:"
   ]
  },
  {
   "cell_type": "code",
   "execution_count": 49,
   "metadata": {},
   "outputs": [
    {
     "data": {
      "text/plain": [
       "\u001b[36mfecha\u001b[39m: \u001b[32mscala\u001b[39m.\u001b[32mutil\u001b[39m.\u001b[32mmatching\u001b[39m.\u001b[32mRegex\u001b[39m = (\\d{4})-(\\d{2})-(\\d{2})\n",
       "\u001b[36manio19xx\u001b[39m: \u001b[32mscala\u001b[39m.\u001b[32mutil\u001b[39m.\u001b[32mmatching\u001b[39m.\u001b[32mRegex\u001b[39m = 19(\\d{2})\n",
       "\u001b[36manioEspecial\u001b[39m: \u001b[32mString\u001b[39m = \u001b[32m\"2001\"\u001b[39m\n",
       "defined \u001b[32mfunction\u001b[39m \u001b[36mqueDiaEs\u001b[39m"
      ]
     },
     "execution_count": 49,
     "metadata": {},
     "output_type": "execute_result"
    }
   ],
   "source": [
    "val fecha = raw\"(\\d{4})-(\\d{2})-(\\d{2})\".r // regex para fechas con guion 2020-01-01\n",
    "\n",
    "val anio19xx = raw\"19(\\d{2})\".r // regex para números de 4 cifras que comienzan por 19xx y extrae el xx\n",
    "\n",
    "val anioEspecial = \"2001\"\n",
    "\n",
    "def queDiaEs(dateStr: String): String =\n",
    "dateStr match {\n",
    "    // comparación con un valor tras la extracción\n",
    "    case fecha(`anioEspecial`, _, _) => \"mi año especial :D\"\n",
    "    // comparación con literal tras extracción\n",
    "    case fecha(_, \"01\", \"01\") => s\"feliz año nuevo!\"\n",
    "    // asignación del valor original y comparación en la extracción\n",
    "    case d @ fecha(_, \"02\", \"29\") => s\"es año bisiesto $d\"\n",
    "    // varios posibles casos de un elemento extraido\n",
    "    case fecha(\"1800\" | \"1700\", _, _) => \"eso es muy viejo\"\n",
    "    // refinamiento tras extracción\n",
    "    case fecha(year, month, day) if year.reverse == (month + day) => s\"la fecha es capicua $year$month$day\"\n",
    "    // extracción de un elemento obtenido por una extracción\n",
    "    case fecha(anio19xx(year19), month, day) => s\"$day del $month del año $year19\"\n",
    "    case fecha(year, month, day) => s\"año: $year, mes: $month, dia: $day\"\n",
    "    case _ => \"no es una fecha\"\n",
    "}"
   ]
  },
  {
   "cell_type": "code",
   "execution_count": 50,
   "metadata": {},
   "outputs": [
    {
     "data": {
      "text/plain": [
       "\u001b[36mres49_0\u001b[39m: \u001b[32mString\u001b[39m = \u001b[32m\"mi a\\u00f1o especial :D\"\u001b[39m\n",
       "\u001b[36mres49_1\u001b[39m: \u001b[32mString\u001b[39m = \u001b[32m\"feliz a\\u00f1o nuevo!\"\u001b[39m\n",
       "\u001b[36mres49_2\u001b[39m: \u001b[32mString\u001b[39m = \u001b[32m\"es a\\u00f1o bisiesto 2020-02-29\"\u001b[39m\n",
       "\u001b[36mres49_3\u001b[39m: \u001b[32mString\u001b[39m = \u001b[32m\"eso es muy viejo\"\u001b[39m\n",
       "\u001b[36mres49_4\u001b[39m: \u001b[32mString\u001b[39m = \u001b[32m\"eso es muy viejo\"\u001b[39m\n",
       "\u001b[36mres49_5\u001b[39m: \u001b[32mString\u001b[39m = \u001b[32m\"la fecha es capicua 20200202\"\u001b[39m\n",
       "\u001b[36mres49_6\u001b[39m: \u001b[32mString\u001b[39m = \u001b[32m\"03 del 02 del a\\u00f1o 95\"\u001b[39m\n",
       "\u001b[36mres49_7\u001b[39m: \u001b[32mString\u001b[39m = \u001b[32m\"a\\u00f1o: 2021, mes: 31, dia: 10\"\u001b[39m\n",
       "\u001b[36mres49_8\u001b[39m: \u001b[32mString\u001b[39m = \u001b[32m\"no es una fecha\"\u001b[39m"
      ]
     },
     "execution_count": 50,
     "metadata": {},
     "output_type": "execute_result"
    }
   ],
   "source": [
    "queDiaEs(\"2001-03-01\")\n",
    "queDiaEs(\"2021-01-01\")\n",
    "queDiaEs(\"2020-02-29\")\n",
    "queDiaEs(\"1800-03-29\")\n",
    "queDiaEs(\"1700-03-29\")\n",
    "queDiaEs(\"2020-02-02\")\n",
    "queDiaEs(\"1995-02-03\")\n",
    "queDiaEs(\"2021-31-10\")\n",
    "queDiaEs(\"2021\")"
   ]
  },
  {
   "cell_type": "markdown",
   "metadata": {},
   "source": [
    "### Un error que todos cometemos\n",
    "\n",
    "Ya vimos al comienzo que el compilador nos daba un mensaje de advertencia cuando teníamos casos que no eran alcanzables, pero planteo otra duda. ¿Que ocurre si tenemos un caso que no está contemplado?"
   ]
  },
  {
   "cell_type": "code",
   "execution_count": 51,
   "metadata": {},
   "outputs": [
    {
     "name": "stderr",
     "output_type": "stream",
     "text": [
      "cmd50.sc:2: match may not be exhaustive.\n",
      "It would fail on the following input: Some((x: Int forSome x not in 0))\n",
      "o match {\n",
      "^"
     ]
    },
    {
     "data": {
      "text/plain": [
       "defined \u001b[32mfunction\u001b[39m \u001b[36mtengoDato\u001b[39m"
      ]
     },
     "execution_count": 51,
     "metadata": {},
     "output_type": "execute_result"
    }
   ],
   "source": [
    "def tengoDato(o: Option[Int]): String =\n",
    "o match {\n",
    "    case Some(0) => s\"tenemos el valor 0\" // solo contemplamos Some con el valor 0\n",
    "    case None => \"no tenemos valor\"\n",
    "}"
   ]
  },
  {
   "cell_type": "markdown",
   "metadata": {},
   "source": [
    "Ya vemos en este caso que solo con la definición ya nos advierte el compilador de que algo falta. Pero si aun así hacemos caso omiso, al ejecutar:"
   ]
  },
  {
   "cell_type": "code",
   "execution_count": 52,
   "metadata": {},
   "outputs": [
    {
     "ename": "",
     "evalue": "",
     "output_type": "error",
     "traceback": [
      "\u001b[31mscala.MatchError: Some(1) (of class scala.Some)\u001b[39m\n  ammonite.$sess.cmd50$Helper.tengoDato(\u001b[32mcmd50.sc\u001b[39m:\u001b[32m2\u001b[39m)\n  ammonite.$sess.cmd51$Helper.<init>(\u001b[32mcmd51.sc\u001b[39m:\u001b[32m1\u001b[39m)\n  ammonite.$sess.cmd51$.<init>(\u001b[32mcmd51.sc\u001b[39m:\u001b[32m7\u001b[39m)\n  ammonite.$sess.cmd51$.<clinit>(\u001b[32mcmd51.sc\u001b[39m:\u001b[32m-1\u001b[39m)"
     ]
    }
   ],
   "source": [
    "tengoDato(Some(1))"
   ]
  },
  {
   "cell_type": "markdown",
   "metadata": {},
   "source": [
    "Obtenemos un error en la ejecución de tipo `scala.MatchError`, y ya hemos dicho que esto en scala, hay que evitarlo siempre que sea posible.\n",
    "\n",
    "Como bien sabrás, scala está muy orientado a que se programe segun el paradigma funcional, lo que nos lleva a las funciones puras. Si no conocías el concepto de función pura, podemos resumirlo como que a todo elemento que entra en una función, tiene que devolver un valor, pero una excepción no es un valor, o no al menos uno que se pueda recoger solo haciendo una asignación.\n",
    "\n",
    "Hay que tener en cuenta que esta comprobación de exhausividad solo funciona si trabajamos con ADT's, si realizamos este match en un tipo primitivo como son `String`, o `Int`, el compilador no va a poder decirnos estas advertencias."
   ]
  },
  {
   "cell_type": "code",
   "execution_count": 53,
   "metadata": {},
   "outputs": [
    {
     "data": {
      "text/plain": [
       "defined \u001b[32mfunction\u001b[39m \u001b[36mnoExhaustivo\u001b[39m"
      ]
     },
     "execution_count": 53,
     "metadata": {},
     "output_type": "execute_result"
    }
   ],
   "source": [
    "def noExhaustivo(o: Int): String =\n",
    "o match {\n",
    "    case 0 => s\"tenemos el valor 0\"\n",
    "    case 1 => s\"tenemos el valor 1\"\n",
    "}"
   ]
  },
  {
   "cell_type": "code",
   "execution_count": 54,
   "metadata": {},
   "outputs": [
    {
     "ename": "",
     "evalue": "",
     "output_type": "error",
     "traceback": [
      "\u001b[31mscala.MatchError: 2 (of class java.lang.Integer)\u001b[39m\n  ammonite.$sess.cmd52$Helper.noExhaustivo(\u001b[32mcmd52.sc\u001b[39m:\u001b[32m2\u001b[39m)\n  ammonite.$sess.cmd53$Helper.<init>(\u001b[32mcmd53.sc\u001b[39m:\u001b[32m3\u001b[39m)\n  ammonite.$sess.cmd53$.<init>(\u001b[32mcmd53.sc\u001b[39m:\u001b[32m7\u001b[39m)\n  ammonite.$sess.cmd53$.<clinit>(\u001b[32mcmd53.sc\u001b[39m:\u001b[32m-1\u001b[39m)"
     ]
    }
   ],
   "source": [
    "noExhaustivo(0)\n",
    "noExhaustivo(1)\n",
    "noExhaustivo(2)"
   ]
  },
  {
   "cell_type": "markdown",
   "metadata": {},
   "source": [
    "Por lo que es siempre recomendable poner un caso por defecto (`case _ => `) que lo evite si estamos haciendo match sobre un elemento primitivo, o clases que no sean ADTs."
   ]
  },
  {
   "cell_type": "markdown",
   "metadata": {},
   "source": [
    "### Un truco si eres nuevo (o no te fias ni de ti mismo)"
   ]
  },
  {
   "cell_type": "markdown",
   "metadata": {},
   "source": [
    "El compilador de scala sabe que un pattern matching es un posible foco de excepciones, por lo que en muchos casos, si ve que no se contemplan todos los casos de entrada, o lo que es lo mismo, no es exhaustivo nos dará un advertencia a nivel de warning. \n",
    "\n",
    "Yo te doy un consejo, es una buena practica, hacer que una build falle si hay algun mensaje, solo tienes que añadir la siguiente opción en tu proyecto sbt:\n",
    "\n",
    "```scala\n",
    "scalacOptions += \"-Xfatal-warnings\"\n",
    "```\n",
    "\n",
    "o si eres de los que trabaja con maven, en el plugin de scala añade junto a tus opciones:\n",
    "\n",
    "```xml\n",
    "<executions>\n",
    "  <execution>\n",
    "    <configuration>\n",
    "      <args>  \n",
    "        <arg>-Xfatal-warnings</arg>\n",
    "      </args>\n",
    "    </configuration>\n",
    "  </execution>\n",
    "</executions>\n",
    "```\n"
   ]
  },
  {
   "cell_type": "markdown",
   "metadata": {},
   "source": [
    "Con esto, ya tenemos todas las herramientas necesarias para convertirnos en un ninja del patter matching, pudiendo hacer una gran y compleja lógica de una manera muy legible y mantenible, y teniendo al compilador como red de seguridad que nos supervise."
   ]
  },
  {
   "cell_type": "markdown",
   "metadata": {},
   "source": [
    "## Funciones parciales\n",
    "\n",
    "Siempre que se ha hablado de pattern matching, hacemos mucho hincapié en que ha de ser pura, es decir, contemplar todos los casos de entrada y que den respuesta a cada uno de ellos, pero, fuera del `match` algunas veces solo queremos conteplar una parte de los casos. Esto en scala se llaman funciones parciales, y tienen un [interfaz](https://www.scala-lang.org/api/current/scala/PartialFunction.html) ya creado para este proposito y que sigue la siguiente estructura.\n",
    "\n",
    "```scala\n",
    "trait PartialFunction[-A, +B]{\n",
    "    def isDefinedAt(x: A): Boolean\n",
    "    def apply(v1: A): B\n",
    "}\n",
    "```\n",
    "\n",
    "El método `apply`, es el método que no es necesario llamarlo de forma explicita, si no que se llama directamente solo pasandole los parámetros, en este caso sería el equivalente a la parte derecha tras la flecha `=>` del pattern matching, y como podrás imaginar, `isDefinedAt` es el método que representa la condición, si está definido para el valor a comprobar, devuelve verdadero y ejecutaríamos el método apply."
   ]
  },
  {
   "cell_type": "code",
   "execution_count": 55,
   "metadata": {},
   "outputs": [
    {
     "data": {
      "text/plain": [
       "\u001b[36misEven\u001b[39m: \u001b[32mPartialFunction\u001b[39m[\u001b[32mInt\u001b[39m, \u001b[32mString\u001b[39m] = <function1>"
      ]
     },
     "execution_count": 55,
     "metadata": {},
     "output_type": "execute_result"
    }
   ],
   "source": [
    "val isEven: PartialFunction[Int, String] = new PartialFunction[Int, String]{\n",
    "    def isDefinedAt(x: Int): Boolean = x % 2 == 0\n",
    "    def apply(v1: Int): String = v1+\" is even\"\n",
    "}\n"
   ]
  },
  {
   "cell_type": "markdown",
   "metadata": {},
   "source": [
    "Esto no quiere decir que nosotros tengamos que crear una instancia de `PartialFunction` de forma explicita, porque para eso tenemos la sintaxis que usabamos anteriormente, la única diferencia, es que evitar el inicio `x => x match {` cambiando los parentesis entre los que se va a implementar, podemos directamente empezar por las llaves del patter matching directamente."
   ]
  },
  {
   "cell_type": "code",
   "execution_count": 56,
   "metadata": {},
   "outputs": [
    {
     "data": {
      "text/plain": [
       "\u001b[36misEven\u001b[39m: \u001b[32mPartialFunction\u001b[39m[\u001b[32mInt\u001b[39m, \u001b[32mString\u001b[39m] = <function1>"
      ]
     },
     "execution_count": 56,
     "metadata": {},
     "output_type": "execute_result"
    }
   ],
   "source": [
    "val isEven: PartialFunction[Int, String] = {\n",
    "  case x if x % 2 == 0 => x + \" is even\"\n",
    "}"
   ]
  },
  {
   "cell_type": "markdown",
   "metadata": {},
   "source": [
    "Con esto, vemos uno de los grande secretos del pattern matching, en el fondo, solo es azucar sintactico, que el compilador traduce al interfaz `PartialFunction`.\n",
    "\n",
    "¿Y que usos podemos hacer de las funciones parciales? Pues podemos aplicarlas cuando necesitamos saber dos cosas, sobre que podemos aplicar esta función, y si es el caso, que queremos hacer con ellas. Por ejemplo, el método `collect` de las colecciones, con él, seleccionamos solo los que pasan la criba, y los transformados como se indica:"
   ]
  },
  {
   "cell_type": "code",
   "execution_count": 57,
   "metadata": {},
   "outputs": [
    {
     "data": {
      "text/plain": [
       "\u001b[36mres56\u001b[39m: \u001b[32mList\u001b[39m[\u001b[32mString\u001b[39m] = \u001b[33mList\u001b[39m(\u001b[32m\"2 is even\"\u001b[39m, \u001b[32m\"4 is even\"\u001b[39m)"
      ]
     },
     "execution_count": 57,
     "metadata": {},
     "output_type": "execute_result"
    }
   ],
   "source": [
    "List(1, 2, 3, 4).collect(isEven)"
   ]
  },
  {
   "cell_type": "markdown",
   "metadata": {},
   "source": [
    "Otra de las particularidades de las funciones parciales es que se pueden combinar, para contemplar más casos."
   ]
  },
  {
   "cell_type": "code",
   "execution_count": 58,
   "metadata": {},
   "outputs": [
    {
     "data": {
      "text/plain": [
       "\u001b[36misEven\u001b[39m: \u001b[32mPartialFunction\u001b[39m[\u001b[32mInt\u001b[39m, \u001b[32mString\u001b[39m] = <function1>\n",
       "\u001b[36misOdd\u001b[39m: \u001b[32mPartialFunction\u001b[39m[\u001b[32mInt\u001b[39m, \u001b[32mString\u001b[39m] = <function1>\n",
       "\u001b[36mpf\u001b[39m: \u001b[32mPartialFunction\u001b[39m[\u001b[32mInt\u001b[39m, \u001b[32mString\u001b[39m] = <function1>\n",
       "\u001b[36mres57_3\u001b[39m: \u001b[32mList\u001b[39m[\u001b[32mString\u001b[39m] = \u001b[33mList\u001b[39m(\u001b[32m\"1 is odd\"\u001b[39m, \u001b[32m\"2 is even\"\u001b[39m, \u001b[32m\"3 is odd\"\u001b[39m, \u001b[32m\"4 is even\"\u001b[39m)"
      ]
     },
     "execution_count": 58,
     "metadata": {},
     "output_type": "execute_result"
    }
   ],
   "source": [
    "val isEven: PartialFunction[Int, String] = {\n",
    "  case x if x % 2 == 0 => x+\" is even\"\n",
    "}\n",
    "\n",
    "val isOdd: PartialFunction[Int, String] = {\n",
    "  case x if x % 2 == 1 => x+\" is odd\"\n",
    "}\n",
    "\n",
    "val pf: PartialFunction[Int, String] = isEven.orElse(isOdd)\n",
    "\n",
    "List(1, 2, 3, 4).map(pf)"
   ]
  },
  {
   "cell_type": "markdown",
   "metadata": {},
   "source": [
    "En este caso, somos nosotros los que tenemos que asegurar que es exhaustivo, pero podemos componer distintos elementos o poder hacer de una forma programatica los posibles casos.\n",
    "\n",
    "## Aplicación de pattern matching en lambdas\n",
    "\n",
    "Muchas veces cuando queremos hacer un pattern matching es creando una lambda, por ejemplo en un método map."
   ]
  },
  {
   "cell_type": "code",
   "execution_count": 59,
   "metadata": {},
   "outputs": [
    {
     "data": {
      "text/plain": [
       "\u001b[36moptval\u001b[39m: \u001b[32mSome\u001b[39m[\u001b[32mInt\u001b[39m] = \u001b[33mSome\u001b[39m(\u001b[32m4\u001b[39m)\n",
       "\u001b[36mres58_1\u001b[39m: \u001b[32mOption\u001b[39m[\u001b[32mString\u001b[39m] = \u001b[33mSome\u001b[39m(\u001b[32m\"es otro n\\u00famero\"\u001b[39m)"
      ]
     },
     "execution_count": 59,
     "metadata": {},
     "output_type": "execute_result"
    }
   ],
   "source": [
    "val optval = Some(4)\n",
    "\n",
    "optval.map(x => x match {\n",
    "    case 1 => \"es 1\"\n",
    "    case 2 => \"es el número 2\"\n",
    "    case _ => \"es otro número\"\n",
    "})\n",
    "\n"
   ]
  },
  {
   "cell_type": "markdown",
   "metadata": {},
   "source": [
    "Como hemos visto en el ejemplo anterior, si la lógica que queremos en esa lambda solo se compone de un pattern matching, podemos simplificar el código. Scala permite realizar un pattern matching con los parámetros pasados a la lambda cambiando el inicio `x => x match {` por las llaves que tienen los casos directamente:"
   ]
  },
  {
   "cell_type": "code",
   "execution_count": 60,
   "metadata": {},
   "outputs": [
    {
     "data": {
      "text/plain": [
       "\u001b[36moptval\u001b[39m: \u001b[32mSome\u001b[39m[\u001b[32mInt\u001b[39m] = \u001b[33mSome\u001b[39m(\u001b[32m4\u001b[39m)\n",
       "\u001b[36mres59_1\u001b[39m: \u001b[32mOption\u001b[39m[\u001b[32mString\u001b[39m] = \u001b[33mSome\u001b[39m(\u001b[32m\"es otro n\\u00famero\"\u001b[39m)"
      ]
     },
     "execution_count": 60,
     "metadata": {},
     "output_type": "execute_result"
    }
   ],
   "source": [
    "val optval = Some(4)\n",
    "\n",
    "optval.map{\n",
    "    case 1 => \"es 1\"\n",
    "    case 2 => \"es el número 2\"\n",
    "    case _ => \"es otro número\"\n",
    "}"
   ]
  },
  {
   "cell_type": "markdown",
   "metadata": {},
   "source": [
    "Y tranquilo, si lo que esperas ha de ser una función completa o pura, y te avisará el compilador si es exhaustivo o no (en los casos que vimos previamente)."
   ]
  },
  {
   "cell_type": "code",
   "execution_count": 61,
   "metadata": {},
   "outputs": [
    {
     "name": "stderr",
     "output_type": "stream",
     "text": [
      "cmd60.sc:3: match may not be exhaustive.\n",
      "It would fail on the following input: None\n",
      "val res60_1 = foo.map{\n",
      "                     ^"
     ]
    },
    {
     "ename": "",
     "evalue": "",
     "output_type": "error",
     "traceback": [
      "\u001b[31mscala.MatchError: None (of class scala.None$)\u001b[39m\n  ammonite.$sess.cmd60$Helper.$anonfun$res60_1$1(\u001b[32mcmd60.sc\u001b[39m:\u001b[32m3\u001b[39m)\n  ammonite.$sess.cmd60$Helper.$anonfun$res60_1$1$adapted(\u001b[32mcmd60.sc\u001b[39m:\u001b[32m3\u001b[39m)\n  scala.collection.immutable.List.map(\u001b[32mList.scala\u001b[39m:\u001b[32m297\u001b[39m)\n  ammonite.$sess.cmd60$Helper.<init>(\u001b[32mcmd60.sc\u001b[39m:\u001b[32m3\u001b[39m)\n  ammonite.$sess.cmd60$.<init>(\u001b[32mcmd60.sc\u001b[39m:\u001b[32m7\u001b[39m)\n  ammonite.$sess.cmd60$.<clinit>(\u001b[32mcmd60.sc\u001b[39m:\u001b[32m-1\u001b[39m)"
     ]
    }
   ],
   "source": [
    "val foo: List[Option[Int]] = List(Some(4), None, Some(1))\n",
    "\n",
    "foo.map{\n",
    "    case Some(_) => 5\n",
    "}\n",
    "\n",
    "// tenemos advertencia de compilación y además error en la ejecución"
   ]
  },
  {
   "cell_type": "markdown",
   "metadata": {},
   "source": [
    "Y si ve que espera una función parcial, ahí eres tu el responsable de que esté bien creado, no puede hacer el compilador todo por tí."
   ]
  },
  {
   "cell_type": "code",
   "execution_count": 62,
   "metadata": {},
   "outputs": [
    {
     "data": {
      "text/plain": [
       "\u001b[36mfoo\u001b[39m: \u001b[32mList\u001b[39m[\u001b[32mOption\u001b[39m[\u001b[32mInt\u001b[39m]] = \u001b[33mList\u001b[39m(\u001b[33mSome\u001b[39m(\u001b[32m4\u001b[39m), \u001b[32mNone\u001b[39m, \u001b[33mSome\u001b[39m(\u001b[32m1\u001b[39m))\n",
       "\u001b[36mres61_1\u001b[39m: \u001b[32mList\u001b[39m[\u001b[32mInt\u001b[39m] = \u001b[33mList\u001b[39m(\u001b[32m5\u001b[39m, \u001b[32m5\u001b[39m)"
      ]
     },
     "execution_count": 62,
     "metadata": {},
     "output_type": "execute_result"
    }
   ],
   "source": [
    "val foo: List[Option[Int]] = List(Some(4), None, Some(1))\n",
    "\n",
    "foo.collect{\n",
    "    case Some(_) => 5\n",
    "}\n",
    "\n",
    "// al ser parcial, no tiene responsabilidad el compilador"
   ]
  },
  {
   "cell_type": "markdown",
   "metadata": {},
   "source": [
    "## Scala 3\n",
    "\n",
    "(Nota: esto no funciona con jupyter)\n",
    "\n",
    "Ahora toca mirar al futuro proximo, en pocos meses de la fecha de este post, saldrá una nueva versión de scala, denominada dotty o scala 3. En esta se ha reescrito el compilador y va a tener muchas novedades. Respecto al tema del pattern matching, no va a tener grandes cambios, todo lo que se ha visto para indicar la condición, se mantiene tal cual. Pero si merece la pena destacar unos puntos, y ya de paso los escribimos con la sintaxis nueva que nos permite scala 3, omitiendo llaves y cambiandolas por `:`.\n",
    "\n",
    "### Match como 'función'\n",
    "Un pequeño cambio respecto a la palabra `match`, sigue siendo una palabra reservada, pero ahora se puede usar como llamada a un método, es decir, usando punto respecto al valor. Eso si, tras `match` se puede eliminar las llaves, sin necesidad de poner `:`\n",
    "```scala\n",
    "45.match\n",
    "    case 1 => \"es 1\"\n",
    "    case 2 => \"es el número 2\"\n",
    "    case _ => \"es otro número\"\n",
    "\n",
    "```\n",
    "[link para ejemplo interactivo](https://scastie.scala-lang.org/alfonsorr/qeozSdkzTvOTseiCc0OmnA)\n",
    "\n",
    "Esta forma trata de permitirnos cambiar la prioridad para procesar el pattern matching, permitiendonos integrarlo facilmente con otros elementos, por ejemplo:\n",
    "\n",
    "```scala\n",
    "if 4.match\n",
    "     case 5 => true\n",
    "     case _ => false\n",
    "then\n",
    "  \"valor 5\"\n",
    "else\n",
    "  \"otro valor\"\n",
    "````\n",
    "[link para ejemplo interactivo](https://scastie.scala-lang.org/alfonsorr/A4nNc65pSTuvrtWvSkFfaA/8)\n",
    "\n",
    "### Extractores 'irrefutables'\n",
    "\n",
    "Otra de las mejoras que se tiene en scala 3, es en la creación de extractores. Una limitación que tienen actualmente en scala 2 los extractores, es la obligación de devolver los elementos extraidos en un Option, lo que representa que esa extracción puede no ir bien. Esto impide crear extractores, que sabemos que siempre irán correctamente, o como lo llaman en la documentación 'irrefutables', como por ejemplo el siguiente.\n",
    "\n",
    "```scala\n",
    "object PreviousAndNextNumber:\n",
    "    def unapply(int: Int): Option[(Int, Int)] = Some((int-1, int + 1))\n",
    "\n",
    "5 match\n",
    "    case PreviousAndNextNumber(_, 6) => \"valor valido\"\n",
    "    case _ => \"valor invalido\"\n",
    "````\n",
    "[link para ejemplo interactivo](https://scastie.scala-lang.org/alfonsorr/Z0kg5fykTh6hE6c2g8GGvQ/1)\n",
    "\n",
    "Como se ve, en este extractor se devuelve un elemento `Option[Int]` pero nunca va a tener el caso que devolvamos `None`. Esto en scala 3 se ha mejorado, permitiendo el uso de extractores que no solo devuelvan `Option`, tambien acepta ahora `Product`, recordar que a este último pertenecen tuplas y todas las `case class`.\n",
    "\n",
    "```scala\n",
    "object PreviousAndNextNumber:\n",
    "    def unapply(int: Int): (Int, Int) = (int-1, int + 1)1\n",
    "\n",
    "5 match\n",
    "    case PreviousAndNextNumber(_, 6) => \"valor valido\"\n",
    "    case _ => \"valor invalido\"\n",
    "\n",
    "val PreviousAndNextNumber(prev, next) = 5\n",
    "\n",
    "```\n",
    "[link para ejemplo interactivo](https://scastie.scala-lang.org/alfonsorr/IYjlD9BWT9S1z6xRipQpIA/9)\n",
    "\n",
    "Esto permite el uso de extractores en las asignaciones, cosa que no se suele usar mucho en scala dos si no conocemos perfectamente si puede lanzar excepciones en caso de no ser válida la condición.\n",
    "\n",
    "Y como último apunte ya que hablamos de extractores, se permitirá su uso en los for compresion, pero eso es tema para otro post ;)"
   ]
  },
  {
   "cell_type": "markdown",
   "metadata": {},
   "source": [
    "## Resumen final\n",
    "Como habrás visto, el pattern matching es una herramienta que permite simplificar códigos muy complejos de una manera estructurada. No es algo que sea exclusivo de scala, ni siquiera es el primero y otros lenguajes ya han introducido herramientas similares, pero podrás ver que siempre va de la mano con el paradigma funcional. Una tendencia que cada vez vemos en más lenguajes.\n",
    "En scala siempre ha sido uno de sus caracteristicas estrella, y ha madurado mucho, tanto que en nuevas versiones solo tiene algunas mejoras para poder reutilizar algunos de sus elementos en más lugares."
   ]
  }
 ],
 "metadata": {
  "kernelspec": {
   "display_name": "Scala 2.12",
   "language": "scala",
   "name": "scala212"
  },
  "language_info": {
   "codemirror_mode": "text/x-scala",
   "file_extension": ".sc",
   "mimetype": "text/x-scala",
   "name": "scala",
   "nbconvert_exporter": "script",
   "version": "2.12.12"
  }
 },
 "nbformat": 4,
 "nbformat_minor": 4
}
